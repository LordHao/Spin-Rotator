{
 "cells": [
  {
   "cell_type": "code",
   "execution_count": 2,
   "metadata": {},
   "outputs": [
    {
     "name": "stdout",
     "output_type": "stream",
     "text": [
      "Populating the interactive namespace from numpy and matplotlib\n"
     ]
    }
   ],
   "source": [
    "%pylab inline\n",
    "import math\n",
    "from sympy import *\n",
    "init_printing()"
   ]
  },
  {
   "cell_type": "code",
   "execution_count": 3,
   "metadata": {},
   "outputs": [],
   "source": [
    "R = Matrix((genfromtxt(\"Her-Rmat.txt\")))\n",
    "Rrot = Matrix((genfromtxt(\"Rot-Rmat.txt\")))\n",
    "Rrota = Matrix((genfromtxt(\"Rota-Rmat.txt\")))"
   ]
  },
  {
   "cell_type": "code",
   "execution_count": 8,
   "metadata": {},
   "outputs": [
    {
     "name": "stdout",
     "output_type": "stream",
     "text": [
      "\n",
      " R matrix of the original full lattice \n"
     ]
    },
    {
     "data": {
      "text/latex": [
       "$\\displaystyle \\left[\\begin{matrix}-0.98109897 & -0.01160853 & 0.00021382 & 0 & 0 & 2.0 \\cdot 10^{-8}\\\\3.22582485 & -0.98109666 & -0.00017941 & -1.27 \\cdot 10^{-6} & 0 & -7.7 \\cdot 10^{-7}\\\\1.35 \\cdot 10^{-6} & -9.0 \\cdot 10^{-8} & -0.87418647 & -0.00048406 & 0 & 0\\\\-0.00016343 & -0.00019069 & 487.24843268 & -0.87411914 & 0 & -1.36 \\cdot 10^{-6}\\\\-7.0 \\cdot 10^{-7} & -3.0 \\cdot 10^{-8} & -1.16 \\cdot 10^{-6} & 0 & 1.0 & -1.36895978\\\\0 & 0 & 0 & 0 & 0 & 1.0\\end{matrix}\\right]$"
      ],
      "text/plain": [
       "⎡-0.98109897  -0.01160853   0.00021382        0        0     2.0e-8   ⎤\n",
       "⎢                                                                     ⎥\n",
       "⎢3.22582485   -0.98109666  -0.00017941    -1.27e-6     0     -7.7e-7  ⎥\n",
       "⎢                                                                     ⎥\n",
       "⎢  1.35e-6      -9.0e-8    -0.87418647   -0.00048406   0        0     ⎥\n",
       "⎢                                                                     ⎥\n",
       "⎢-0.00016343  -0.00019069  487.24843268  -0.87411914   0    -1.36e-6  ⎥\n",
       "⎢                                                                     ⎥\n",
       "⎢  -7.0e-7      -3.0e-8      -1.16e-6         0       1.0  -1.36895978⎥\n",
       "⎢                                                                     ⎥\n",
       "⎣     0            0            0             0        0       1.0    ⎦"
      ]
     },
     "metadata": {},
     "output_type": "display_data"
    },
    {
     "name": "stdout",
     "output_type": "stream",
     "text": [
      "\n",
      " R matrix of the full lattice with rotator\n"
     ]
    },
    {
     "data": {
      "text/latex": [
       "$\\displaystyle \\left[\\begin{matrix}-0.98107124 & -0.01160807 & 0.00020849 & 0 & 0 & -3.1 \\cdot 10^{-7}\\\\3.22595138 & -0.98112438 & -0.00016445 & -1.26 \\cdot 10^{-6} & 0 & -1.446 \\cdot 10^{-5}\\\\1.35 \\cdot 10^{-6} & -9.0 \\cdot 10^{-8} & -0.87977925 & -0.00049424 & 0 & 1.7 \\cdot 10^{-7}\\\\-0.0001506 & -0.00018534 & 477.27824549 & -0.86852452 & 0 & -8.907 \\cdot 10^{-5}\\\\-1.518 \\cdot 10^{-5} & 1.3 \\cdot 10^{-7} & 1.43 \\cdot 10^{-6} & -1.9 \\cdot 10^{-7} & 1.0 & -1.39087481\\\\0 & 0 & 0 & 0 & 0 & 1.0\\end{matrix}\\right]$"
      ],
      "text/plain": [
       "⎡-0.98107124  -0.01160807   0.00020849        0        0     -3.1e-7  ⎤\n",
       "⎢                                                                     ⎥\n",
       "⎢3.22595138   -0.98112438  -0.00016445    -1.26e-6     0    -1.446e-5 ⎥\n",
       "⎢                                                                     ⎥\n",
       "⎢  1.35e-6      -9.0e-8    -0.87977925   -0.00049424   0     1.7e-7   ⎥\n",
       "⎢                                                                     ⎥\n",
       "⎢-0.0001506   -0.00018534  477.27824549  -0.86852452   0    -8.907e-5 ⎥\n",
       "⎢                                                                     ⎥\n",
       "⎢ -1.518e-5     1.3e-7       1.43e-6       -1.9e-7    1.0  -1.39087481⎥\n",
       "⎢                                                                     ⎥\n",
       "⎣     0            0            0             0        0       1.0    ⎦"
      ]
     },
     "metadata": {},
     "output_type": "display_data"
    },
    {
     "name": "stdout",
     "output_type": "stream",
     "text": [
      "\n",
      " R matrix of the full lattice with alternative rotator\n"
     ]
    },
    {
     "data": {
      "text/latex": [
       "$\\displaystyle \\left[\\begin{matrix}0.59624725 & -0.04816767 & 0.0001211 & -6.6 \\cdot 10^{-7} & 0 & -5.1 \\cdot 10^{-7}\\\\13.37935322 & 0.59630914 & -5.746 \\cdot 10^{-5} & -4.99 \\cdot 10^{-6} & 0 & 8.86 \\cdot 10^{-6}\\\\6.14 \\cdot 10^{-6} & 6.3 \\cdot 10^{-7} & -0.96070158 & -0.00027489 & 0 & 1.6 \\cdot 10^{-7}\\\\-5.336 \\cdot 10^{-5} & -0.00011023 & 278.01572609 & -0.96135499 & 0 & -8.779 \\cdot 10^{-5}\\\\-1.21 \\cdot 10^{-5} & 1.2 \\cdot 10^{-7} & -3.946 \\cdot 10^{-5} & -1.8 \\cdot 10^{-7} & 1.0 & -1.38557319\\\\0 & 0 & 0 & 0 & 0 & 1.0\\end{matrix}\\right]$"
      ],
      "text/plain": [
       "⎡0.59624725   -0.04816767   0.0001211      -6.6e-7     0     -5.1e-7  ⎤\n",
       "⎢                                                                     ⎥\n",
       "⎢13.37935322  0.59630914    -5.746e-5     -4.99e-6     0     8.86e-6  ⎥\n",
       "⎢                                                                     ⎥\n",
       "⎢  6.14e-6      6.3e-7     -0.96070158   -0.00027489   0     1.6e-7   ⎥\n",
       "⎢                                                                     ⎥\n",
       "⎢ -5.336e-5   -0.00011023  278.01572609  -0.96135499   0    -8.779e-5 ⎥\n",
       "⎢                                                                     ⎥\n",
       "⎢ -1.21e-5      1.2e-7      -3.946e-5      -1.8e-7    1.0  -1.38557319⎥\n",
       "⎢                                                                     ⎥\n",
       "⎣     0            0            0             0        0       1.0    ⎦"
      ]
     },
     "metadata": {},
     "output_type": "display_data"
    }
   ],
   "source": [
    "print(\"\\n R matrix of the original full lattice \")\n",
    "display(simplify(R))\n",
    "\n",
    "print(\"\\n R matrix of the full lattice with rotator\")\n",
    "display(simplify(Rrot))\n",
    "\n",
    "print(\"\\n R matrix of the full lattice with alternative rotator\")\n",
    "display(simplify(Rrota))"
   ]
  },
  {
   "cell_type": "code",
   "execution_count": 9,
   "metadata": {},
   "outputs": [
    {
     "data": {
      "image/png": "[encoded data removed]",
      "text/latex": [
       "$\\displaystyle 1.00000060827782$"
      ],
      "text/plain": [
       "1.00000060827782"
      ]
     },
     "execution_count": 9,
     "metadata": {},
     "output_type": "execute_result"
    }
   ],
   "source": [
    "det(R)"
   ]
  },
  {
   "cell_type": "code",
   "execution_count": 10,
   "metadata": {},
   "outputs": [
    {
     "data": {
      "image/png": "[encoded data removed]",
      "text/latex": [
       "$\\displaystyle 0.999999831853192$"
      ],
      "text/plain": [
       "0.999999831853192"
      ]
     },
     "execution_count": 10,
     "metadata": {},
     "output_type": "execute_result"
    }
   ],
   "source": [
    "det(Rrot)"
   ]
  },
  {
   "cell_type": "code",
   "execution_count": 11,
   "metadata": {},
   "outputs": [
    {
     "data": {
      "image/png": "[encoded data removed]",
      "text/latex": [
       "$\\displaystyle 0.999998955082678$"
      ],
      "text/plain": [
       "0.999998955082678"
      ]
     },
     "execution_count": 11,
     "metadata": {},
     "output_type": "execute_result"
    }
   ],
   "source": [
    "det(Rrota)"
   ]
  },
  {
   "cell_type": "markdown",
   "metadata": {},
   "source": [
    "$ $"
   ]
  },
  {
   "cell_type": "markdown",
   "metadata": {},
   "source": [
    "## S:  symplectic matrix \n",
    "\n",
    "$S = \\begin{pmatrix}\n",
    " 0 & 1 &  0 & 0 &  0 & 0 \\\\\n",
    "-1 & 0 &  0 & 0 &  0 & 0 \\\\\n",
    " 0 & 0 &  0 & 1 &  0 & 0 \\\\\n",
    " 0 & 0 & -1 & 0 &  0 & 0 \\\\\n",
    " 0 & 0 &  0 & 0 &  0 & 1 \\\\\n",
    " 0 & 0 &  0 & 0 & -1 & 0 \\\\\n",
    "\\end{pmatrix} $\n",
    "\n",
    "## Symplecticity check \n",
    "\n",
    "$ \\mathbf{R}^\\top \\textbf{ · S · R = S} $\n",
    "\n",
    "### where R is the overall transfer matrix "
   ]
  },
  {
   "cell_type": "code",
   "execution_count": 12,
   "metadata": {},
   "outputs": [
    {
     "data": {
      "text/latex": [
       "$\\displaystyle \\left[\\begin{matrix}0 & 1.0 & 0 & 0 & 0 & 0\\\\-1.0 & 0 & 0 & 0 & 0 & 0\\\\0 & 0 & 0 & 1.0 & 0 & 0\\\\0 & 0 & -1.0 & 0 & 0 & 0\\\\0 & 0 & 0 & 0 & 0 & 1.0\\\\0 & 0 & 0 & 0 & -1.0 & 0\\end{matrix}\\right]$"
      ],
      "text/plain": [
       "⎡ 0    1.0   0     0    0     0 ⎤\n",
       "⎢                               ⎥\n",
       "⎢-1.0   0    0     0    0     0 ⎥\n",
       "⎢                               ⎥\n",
       "⎢ 0     0    0    1.0   0     0 ⎥\n",
       "⎢                               ⎥\n",
       "⎢ 0     0   -1.0   0    0     0 ⎥\n",
       "⎢                               ⎥\n",
       "⎢ 0     0    0     0    0    1.0⎥\n",
       "⎢                               ⎥\n",
       "⎣ 0     0    0     0   -1.0   0 ⎦"
      ]
     },
     "metadata": {},
     "output_type": "display_data"
    }
   ],
   "source": [
    "n = int(sqrt(len(Rrot)))\n",
    "S = np.zeros(((n,n))) # initilize a n by n empty matrix, n =6 \n",
    "for i in range(n):    # generate the symplectic matrix\n",
    "    for j in range(n):\n",
    "        if j%2 ==1 and j == i+1:\n",
    "            S[i,j] = int(1)\n",
    "        elif j%2 ==0 and j == i-1:\n",
    "            S[i,j] = -int(1)\n",
    "        else:\n",
    "            pass\n",
    "S=Matrix(S)\n",
    "display(simplify(S))"
   ]
  },
  {
   "cell_type": "markdown",
   "metadata": {},
   "source": [
    "$ $"
   ]
  },
  {
   "cell_type": "markdown",
   "metadata": {},
   "source": [
    "## Symplectic check for original full lattice"
   ]
  },
  {
   "cell_type": "code",
   "execution_count": 13,
   "metadata": {},
   "outputs": [
    {
     "data": {
      "text/latex": [
       "$\\displaystyle \\left[\\begin{matrix}0 & 6.87027057466594 \\cdot 10^{-9} & 1.19018610660005 \\cdot 10^{-6} & -1.31750729000002 \\cdot 10^{-8} & 0 & -9.07212609999991 \\cdot 10^{-9}\\\\-6.87027057466594 \\cdot 10^{-9} & 0 & 1.30979730299999 \\cdot 10^{-6} & 1.10815429999999 \\cdot 10^{-9} & 0 & -1.4393763 \\cdot 10^{-9}\\\\-1.19018610660005 \\cdot 10^{-6} & -1.309797303 \\cdot 10^{-6} & 0 & 6.01407565303802 \\cdot 10^{-7} & 0 & 2.87325460000001 \\cdot 10^{-8}\\\\1.31750729000001 \\cdot 10^{-8} & -1.10815429999999 \\cdot 10^{-9} & -6.01407565303802 \\cdot 10^{-7} & 0 & 0 & 6.58347 \\cdot 10^{-10}\\\\0 & 0 & 0 & 0 & 0 & 0\\\\9.07212609999991 \\cdot 10^{-9} & 1.4393763 \\cdot 10^{-9} & -2.87325460000001 \\cdot 10^{-8} & -6.58347 \\cdot 10^{-10} & 0 & 0\\end{matrix}\\right]$"
      ],
      "text/plain": [
       "⎡         0            6.87027057466594e-9   1.19018610660005e-6   -1.31750729\n",
       "⎢                                                                             \n",
       "⎢-6.87027057466594e-9           0            1.30979730299999e-6   1.108154299\n",
       "⎢                                                                             \n",
       "⎢-1.19018610660005e-6    -1.309797303e-6              0            6.014075653\n",
       "⎢                                                                             \n",
       "⎢1.31750729000001e-8   -1.10815429999999e-9  -6.01407565303802e-7           0 \n",
       "⎢                                                                             \n",
       "⎢         0                     0                     0                     0 \n",
       "⎢                                                                             \n",
       "⎣9.07212609999991e-9       1.4393763e-9      -2.87325460000001e-8      -6.5834\n",
       "\n",
       "000002e-8  0  -9.07212609999991e-9⎤\n",
       "                                  ⎥\n",
       "99999e-9   0     -1.4393763e-9    ⎥\n",
       "                                  ⎥\n",
       "03802e-7   0  2.87325460000001e-8 ⎥\n",
       "                                  ⎥\n",
       "           0      6.58347e-10     ⎥\n",
       "                                  ⎥\n",
       "           0           0          ⎥\n",
       "                                  ⎥\n",
       "7e-10      0           0          ⎦"
      ]
     },
     "metadata": {},
     "output_type": "display_data"
    }
   ],
   "source": [
    "display(simplify(R.T*S*R-S))"
   ]
  },
  {
   "cell_type": "code",
   "execution_count": 18,
   "metadata": {},
   "outputs": [
    {
     "data": {
      "image/png": "[encoded data removed]",
      "text/latex": [
       "$\\displaystyle 1.21655601303949 \\cdot 10^{-6}$"
      ],
      "text/plain": [
       "1.21655601303949e-6"
      ]
     },
     "execution_count": 18,
     "metadata": {},
     "output_type": "execute_result"
    }
   ],
   "source": [
    "det(R.T*S*R)-1"
   ]
  },
  {
   "cell_type": "markdown",
   "metadata": {},
   "source": [
    "## Symplectic check for full lattice with rot installed"
   ]
  },
  {
   "cell_type": "code",
   "execution_count": 19,
   "metadata": {},
   "outputs": [
    {
     "data": {
      "text/latex": [
       "$\\displaystyle \\left[\\begin{matrix}0 & -1.87472951607148 \\cdot 10^{-8} & 5.89438563299992 \\cdot 10^{-7} & -1.07908835999998 \\cdot 10^{-8} & 0 & 6.24041569999883 \\cdot 10^{-9}\\\\1.87472951607148 \\cdot 10^{-8} & 0 & 4.50240808599987 \\cdot 10^{-7} & 1.1909334 \\cdot 10^{-9} & 0 & -6.25634149999999 \\cdot 10^{-9}\\\\-5.89438563299992 \\cdot 10^{-7} & -4.50240808599987 \\cdot 10^{-7} & 0 & -1.49399509763448 \\cdot 10^{-7} & 0 & -1.34842968069999 \\cdot 10^{-6}\\\\1.07908835999999 \\cdot 10^{-8} & -1.1909334 \\cdot 10^{-9} & 1.49399509763448 \\cdot 10^{-7} & 0 & 0 & 1.67073459999995 \\cdot 10^{-9}\\\\0 & 0 & 0 & 0 & 0 & 0\\\\-6.24041569999883 \\cdot 10^{-9} & 6.25634149999999 \\cdot 10^{-9} & 1.34842968069999 \\cdot 10^{-6} & -1.67073459999997 \\cdot 10^{-9} & 0 & 0\\end{matrix}\\right]$"
      ],
      "text/plain": [
       "⎡         0            -1.87472951607148e-8  5.89438563299992e-7  -1.079088359\n",
       "⎢                                                                             \n",
       "⎢1.87472951607148e-8            0            4.50240808599987e-7      1.190933\n",
       "⎢                                                                             \n",
       "⎢-5.89438563299992e-7  -4.50240808599987e-7           0           -1.493995097\n",
       "⎢                                                                             \n",
       "⎢1.07908835999999e-8      -1.1909334e-9      1.49399509763448e-7           0  \n",
       "⎢                                                                             \n",
       "⎢         0                     0                     0                    0  \n",
       "⎢                                                                             \n",
       "⎣-6.24041569999883e-9  6.25634149999999e-9   1.34842968069999e-6  -1.670734599\n",
       "\n",
       "99998e-8  0  6.24041569999883e-9 ⎤\n",
       "                                 ⎥\n",
       "4e-9      0  -6.25634149999999e-9⎥\n",
       "                                 ⎥\n",
       "63448e-7  0  -1.34842968069999e-6⎥\n",
       "                                 ⎥\n",
       "          0  1.67073459999995e-9 ⎥\n",
       "                                 ⎥\n",
       "          0           0          ⎥\n",
       "                                 ⎥\n",
       "99997e-9  0           0          ⎦"
      ]
     },
     "metadata": {},
     "output_type": "display_data"
    }
   ],
   "source": [
    "display(simplify(Rrot.T*S*Rrot-S))"
   ]
  },
  {
   "cell_type": "code",
   "execution_count": 20,
   "metadata": {},
   "outputs": [
    {
     "data": {
      "image/png": "[encoded data removed]",
      "text/latex": [
       "$\\displaystyle -3.36293587199776 \\cdot 10^{-7}$"
      ],
      "text/plain": [
       "-3.36293587199776e-7"
      ]
     },
     "execution_count": 20,
     "metadata": {},
     "output_type": "execute_result"
    }
   ],
   "source": [
    "det(Rrot.T*S*Rrot)-1"
   ]
  },
  {
   "cell_type": "markdown",
   "metadata": {},
   "source": [
    "## Symplectic check for full lattice with rota installed"
   ]
  },
  {
   "cell_type": "code",
   "execution_count": 21,
   "metadata": {},
   "outputs": [
    {
     "data": {
      "text/latex": [
       "$\\displaystyle \\left[\\begin{matrix}0 & 0.999999954946067 & 1.25347995679967 \\cdot 10^{-6} & -6.22884212999984 \\cdot 10^{-8} & 0 & 5.69028420000281 \\cdot 10^{-9}\\\\-0.999999954946067 & 0 & -1.93550262500011 \\cdot 10^{-7} & -2.03406270000004 \\cdot 10^{-9} & 0 & -2.6855657 \\cdot 10^{-9}\\\\-1.25347995679956 \\cdot 10^{-6} & 1.93550262500011 \\cdot 10^{-7} & 0 & 0.999999000136552 & 0 & 3.98519175200008 \\cdot 10^{-7}\\\\6.22884212999986 \\cdot 10^{-8} & 2.03406270000004 \\cdot 10^{-9} & -0.999999000136552 & 0 & 0 & -2.05900100000001 \\cdot 10^{-9}\\\\0 & 0 & 0 & 0 & 0 & 1.0\\\\-5.69028420000281 \\cdot 10^{-9} & 2.6855657 \\cdot 10^{-9} & -3.98519175200008 \\cdot 10^{-7} & 2.05900100000001 \\cdot 10^{-9} & -1.0 & 0\\end{matrix}\\right]$"
      ],
      "text/plain": [
       "⎡         0             0.999999954946067   1.25347995679967e-6   -6.228842129\n",
       "⎢                                                                             \n",
       "⎢ -0.999999954946067            0           -1.93550262500011e-7  -2.034062700\n",
       "⎢                                                                             \n",
       "⎢-1.25347995679956e-6  1.93550262500011e-7           0             0.999999000\n",
       "⎢                                                                             \n",
       "⎢6.22884212999986e-8   2.03406270000004e-9   -0.999999000136552            0  \n",
       "⎢                                                                             \n",
       "⎢         0                     0                    0                     0  \n",
       "⎢                                                                             \n",
       "⎣-5.69028420000281e-9     2.6855657e-9      -3.98519175200008e-7  2.0590010000\n",
       "\n",
       "99984e-8   0    5.69028420000281e-9 ⎤\n",
       "                                    ⎥\n",
       "00004e-9   0       -2.6855657e-9    ⎥\n",
       "                                    ⎥\n",
       "136552     0    3.98519175200008e-7 ⎥\n",
       "                                    ⎥\n",
       "           0    -2.05900100000001e-9⎥\n",
       "                                    ⎥\n",
       "           0            1.0         ⎥\n",
       "                                    ⎥\n",
       "0001e-9   -1.0           0          ⎦"
      ]
     },
     "metadata": {},
     "output_type": "display_data"
    }
   ],
   "source": [
    "display(simplify(Rrota.T*S*Rrota))"
   ]
  },
  {
   "cell_type": "code",
   "execution_count": 22,
   "metadata": {},
   "outputs": [
    {
     "data": {
      "image/png": "[encoded data removed]",
      "text/latex": [
       "$\\displaystyle -2.08983355098891 \\cdot 10^{-6}$"
      ],
      "text/plain": [
       "-2.08983355098891e-6"
      ]
     },
     "execution_count": 22,
     "metadata": {},
     "output_type": "execute_result"
    }
   ],
   "source": [
    "det(Rrota.T*S*Rrota)-1"
   ]
  }
 ],
 "metadata": {
  "kernelspec": {
   "display_name": "Python 3",
   "language": "python",
   "name": "python3"
  },
  "language_info": {
   "codemirror_mode": {
    "name": "ipython",
    "version": 3
   },
   "file_extension": ".py",
   "mimetype": "text/x-python",
   "name": "python",
   "nbconvert_exporter": "python",
   "pygments_lexer": "ipython3",
   "version": "3.8.5"
  }
 },
 "nbformat": 4,
 "nbformat_minor": 4
}
