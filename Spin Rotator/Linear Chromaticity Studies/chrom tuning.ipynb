{
 "cells": [
  {
   "cell_type": "code",
   "execution_count": 1,
   "metadata": {},
   "outputs": [
    {
     "name": "stdout",
     "output_type": "stream",
     "text": [
      "Populating the interactive namespace from numpy and matplotlib\n"
     ]
    }
   ],
   "source": [
    "%pylab inline\n",
    "import sys"
   ]
  },
  {
   "cell_type": "code",
   "execution_count": 2,
   "metadata": {},
   "outputs": [],
   "source": [
    "import time"
   ]
  },
  {
   "cell_type": "markdown",
   "metadata": {},
   "source": [
    "# The total chromaticity is given by :\n",
    "\n",
    "# $$ \\xi_{tot} = \\frac{1}{4\\pi} \\oint \\big[ m (s)D(s)+k(s)\\big] \\beta(s) ds $$\n",
    "\n",
    "## Where m is the strength of the sextupole; D is the dispersion function; k is the quadrupole strength; $\\beta$ is the beta function \n",
    "\n",
    "## There exists a linear relationship between the chromaticity and the sextupole strength, and the slope is proportional to the product of D and $\\beta$"
   ]
  },
  {
   "cell_type": "markdown",
   "metadata": {},
   "source": [
    "$  $"
   ]
  },
  {
   "cell_type": "markdown",
   "metadata": {},
   "source": [
    "## $\\begin{cases} \\begin{align*} \\xi_x &= \\sum_i a_i \\Delta x_i + x_0 \\\\\n",
    "                              \\xi_y &= \\sum_i b_i \\Delta x_i + y_0 \\end{align*}\\end{cases}$ \n",
    "\n",
    "\n",
    "##  Where $\\xi_x$, $\\xi_y$ is the first order chromaticity of the original lattice \n",
    "\n",
    "## $\\Delta x_i$ is the variation of the strength of the sextupole\n",
    "\n",
    "## $a_i$, $ b_i$ only depends on local optical functions\n",
    "\n",
    "## $x_0$, $y_0$ is the first order chromaticity of the HER with Rot installed before fixing the chrom"
   ]
  },
  {
   "cell_type": "markdown",
   "metadata": {},
   "source": [
    "$   $ "
   ]
  },
  {
   "cell_type": "code",
   "execution_count": 3,
   "metadata": {},
   "outputs": [],
   "source": [
    "ss = array([-3.57664, 0.8176, -3.60689, -1.7296, 0.82926, -1.69482, 0.50485067061]) # alter rot"
   ]
  },
  {
   "cell_type": "code",
   "execution_count": 4,
   "metadata": {},
   "outputs": [],
   "source": [
    "a = array([0.699, 6.3548, 0.6984, 0.7042, 6.3707, 0.699, 6.3643]) #coefficient of the first equation\n",
    "\n",
    "b = array([-1.7957, -1.9373, -1.7892, -1.7899, -1.9367, -1.7831, -1.928]) # coefficient of the second equation\n",
    "\n",
    "CX = 1.593508     #orginal chrom.x\n",
    "CY = 1.622865     #orginal chrom.y\n",
    "\n",
    "x0 = -1.190362    #current chrom.x\n",
    "y0 = -6.084533    #current chrom.y"
   ]
  },
  {
   "cell_type": "code",
   "execution_count": 5,
   "metadata": {},
   "outputs": [],
   "source": [
    "def cx(x):         #compute chrom.x\n",
    "    return dot(a,x) + x0     \n",
    "\n",
    "def cy(x):         #compute chrom.y\n",
    "    return dot(b,x) + y0    "
   ]
  },
  {
   "cell_type": "markdown",
   "metadata": {},
   "source": [
    "$  $"
   ]
  },
  {
   "cell_type": "markdown",
   "metadata": {},
   "source": [
    "# let $\\Delta \\xi= \\xi_x - x_0 $, and  $\\Delta \\xi_y = \\xi_y - y_0 $\n",
    "\n",
    "# $\\begin{cases} \\begin{align*} \\Delta \\xi_x &= a_1 \\Delta x_1+a_2 \\Delta x_2 + ...+ a_N \\Delta x_N  \\\\\n",
    "                              \\Delta \\xi_y &= b_1 \\Delta x_1+b_2 \\Delta x_2 + ...+ b_N \\Delta x_N  \\end{align*}\\end{cases}$ \n",
    "\n",
    "# N variables to be determined and exists 2 equations, so there are N-2 free variables\n",
    "                              \n",
    "# manipulate the second equation,  can find for any $\\Delta x_j$, it can be expressed as:\n",
    "\n",
    "# $$\\begin{equation}\n",
    "\\Delta x_j = \\frac{a_k \\Delta \\xi_y-b_k \\Delta \\xi_x +\\sum\\limits_{ i \\not = j} \\big(a_i b_k-a_k b_i\\big)\\Delta x_i}{a_k b_j - a_j b_k} \n",
    "\\end{equation}$$\n",
    "# with $j \\not = k$.\n",
    "\n",
    "# $\\Delta x_1 = \\frac{a_2 \\Delta \\xi_y-b_2 \\Delta \\xi_x + \\big(a_3 b_2-a_2 b_3\\big)\\Delta x_3+...+\\big(a_N b_2-a_2 b_N\\big)\\Delta x_N}{a_2 b_1 - a_1 b_2} $\n",
    "\n",
    "# $\\Delta x_2 = \\frac{a_1 \\Delta \\xi_y-b_1 \\Delta \\xi_x +\\big(a_3 b_1-a_1 b_3\\big)\\Delta x_3+...+\\big(a_N b_1-a_1 b_N\\big)\\Delta x_N}{a_1 b_2 - a_2 b_1}$"
   ]
  },
  {
   "cell_type": "code",
   "execution_count": 6,
   "metadata": {},
   "outputs": [
    {
     "name": "stdout",
     "output_type": "stream",
     "text": [
      "the coefficient of $\\Delta x_1$ is : [10.01699784 10.01020986 -0.03461595  9.97707118 -0.07750399]\n",
      "the coefficient of $\\Delta x_2$ is : [-3.46608000e-03 -1.33918400e-02 -1.00861127e+01 -8.80740000e-03\n",
      " -1.00807015e+01]\n"
     ]
    }
   ],
   "source": [
    "coeff1 = array([a[i]*b[1]-a[1]*b[i] for i in arange(2,len(a))])   # coefficients of Delta x_1\n",
    "coeff2 = array([a[i]*b[0]-a[0]*b[i] for i in arange(2,len(a))])\n",
    "\n",
    "print(r'the coefficient of $\\Delta x_1$ is :', coeff1)\n",
    "print(r'the coefficient of $\\Delta x_2$ is :', coeff2)"
   ]
  },
  {
   "cell_type": "code",
   "execution_count": 7,
   "metadata": {},
   "outputs": [],
   "source": [
    "def func(X0,Y0,x): # function to comptue x1 and x2; x is the array contains 4 free variables (x3,x4,x5,x6)\n",
    "    Xp = CX - X0   #Chrom'.x\n",
    "    Yp = CY - Y0   #Chrom'.y\n",
    "    x1 = (a[1]*Yp-b[1]*Xp+dot(coeff1,x))/(a[1]*b[0]-a[0]*b[1])    # variable delta x1\n",
    "    x2 = (a[0]*Yp-b[0]*Xp+dot(coeff2,x))/(a[0]*b[1]-a[1]*b[0])    # variable delta x2\n",
    "    return x1, x2"
   ]
  },
  {
   "cell_type": "markdown",
   "metadata": {},
   "source": [
    "# To solve the equation at global minimum, the algorithm follows:\n",
    "\n",
    "## Step 1: Generate data set for N-2 free variables ${\\Delta x_3, \\Delta x_4, ..., \\Delta x_N}$ within a resonable range. let $\\alpha_{i} $ denote the data set for $\\Delta x_i$, $\\alpha_{ij} $ denotes jth element in the data set $\\alpha_i$.  \n",
    "\n",
    "## Step 2: Pick up an element $\\alpha_{ij} $ for each variable $\\Delta x_i$, and generate a data set for free variables $\\{{\\alpha_{3j},\\alpha_{4j},...,\\alpha_{Nj}}\\}$\n",
    "\n",
    "## Step3: Compute $\\Delta x_{1 j}, \\Delta x_{2 j}$ from $\\{\\alpha_{3j},\\alpha_{4j},...,\\alpha_{Nj }\\}$ and only record solutions which stay in the desired range ($x_1+\\Delta x_{1},x_2+\\Delta x_{2} $ below the physical limit), denoted as $\\Delta x_{1k}, \\Delta x_{2k}$  \n",
    "\n",
    "## Step4: Find the maximum strength in each solution set $\\{ x_1 + \\Delta x_{1 k},  x_2+\\Delta x_{2 k}, x_3+\\alpha_{3 k}, ... ,  x_N+\\alpha_{N k}\\}$, denoted as $X_{k}$\n",
    "\n",
    "## Step5: make a comparison between $X_{k}$, and determine the index of the minimum in $X_{k}$ , denoted as m. Then, a local minimum solution is given by $\\{x_1 + \\Delta x_{1 m},  x_2+\\Delta x_{2 m}, x_3+\\alpha_{3 m}, ... ,  x_N+\\alpha_{N m}\\}$\n",
    "\n",
    "## Iteration: reset a narrower range around $\\alpha_{i m}$ to generate a new data set for $\\Delta x_i$, repeat steps 2 to 5; gradually narrow the data range until a global minimum is found.\n",
    "\n",
    "## For example, suppose it determines $\\Delta x_{3}$ to be 0.5 in the first iteration. The initial data set range of $ \\Delta x_3$ is $[-1.5,1.5]$. Add $\\pm 0.5$ to 0.5, narrow the data range to $[0, 1]$, and  use it for the next iteration."
   ]
  },
  {
   "cell_type": "markdown",
   "metadata": {},
   "source": [
    "## Optimizer   "
   ]
  },
  {
   "cell_type": "code",
   "execution_count": 8,
   "metadata": {
    "scrolled": false
   },
   "outputs": [],
   "source": [
    "def multsolver(X0,Y0,a,b,c,d,f):\n",
    "\n",
    "    xxi = []\n",
    "    \n",
    "    for i in range(num):\n",
    "        for j in range(num): \n",
    "            for k in range(num):\n",
    "                for l in range(num):\n",
    "                    for m in range(num):\n",
    "                        xx = array([a[i],b[j],c[k],d[l],f[m]]) # record free variables\n",
    "                        x1 = func(X0,Y0,xx)[0]      # compute x1\n",
    "                        x2 = func(X0,Y0,xx)[1]      # compute x2\n",
    "                                    \n",
    "                        if abs(x1) <=3 and 0<x2 <= 1 and 0<xx[2]<=1:  #condition of accpting \n",
    "                            xs = concatenate((x1,x2),axis=None) # write x1, x2 into one array\n",
    "                            xxi.append(concatenate((xs,xx),axis=None))#generate the solution array \n",
    "                        else:\n",
    "                            pass\n",
    "                        \n",
    "    xxi = array(xxi)\n",
    "    \n",
    "    xxim = []\n",
    "    for i in range(len(xxi)):\n",
    "        xxim.append(max(abs(xxi[i]+ss))) # find the maxium value of N variables in each solution\n",
    "    xxim = array(xxim)\n",
    "    \n",
    "    if len(xxim)==0:\n",
    "        sys.exit('The optimizer can not find a solution in this given range, please increase the maximum strength')\n",
    "        # if no solution, increase the max \n",
    "    nm = where(xxim == min(xxim))[0][0]      # find where the minimum solution is\n",
    "    return xxi[nm]         # return solution"
   ]
  },
  {
   "cell_type": "code",
   "execution_count": 9,
   "metadata": {},
   "outputs": [],
   "source": [
    "def opt(x0,y0,mm,ni,num):   # sextupole strength optimizer\n",
    "    \n",
    "    ama =  mm   ## max of the data \n",
    "    ami = -mm   ## min of the data \n",
    "    bma =  mm\n",
    "    bmi =  mm\n",
    "    cma =  mm\n",
    "    cmi = -mm\n",
    "    dma =  mm\n",
    "    dmi = -mm\n",
    "    fma =  mm\n",
    "    fmi = -mm\n",
    "\n",
    "    \n",
    "    sa = []  # initialize solution array\n",
    "    msa = [] # initialize maximum strength array\n",
    "    \n",
    "    for i in range(ni):\n",
    "        a = linspace(ami,ama,num)     # generating data within the required range \n",
    "        b = linspace(bmi,bma,num)\n",
    "        c = linspace(cmi,cma,num)\n",
    "        d = linspace(dmi,dma,num)\n",
    "        f = linspace(fmi,fma,num)\n",
    "        \n",
    "        s = multsolver(x0,y0,a,b,c,d,f) # compute x1,x2\n",
    "    \n",
    "        ms = max(abs(s+ss))            # find the max in solution array\n",
    "    \n",
    "        ra = 1- i/10                    # narrowing the variation range of data array\n",
    "    \n",
    "        if ra<0.1:                     # set minimum variation range\n",
    "            ra=0.1\n",
    "\n",
    "        if i!= 0 and ms >= msa[-1]:    # if iteration step finds a bigger strength, \n",
    "                                       #go back to previous solution and increase num\n",
    "            num += 1\n",
    "        \n",
    "            ama = sa[-1][2]+ra\n",
    "            ami = sa[-1][2]-ra\n",
    "        \n",
    "            bma = sa[-1][3]+ra\n",
    "            bmi = sa[-1][3]-ra\n",
    "        \n",
    "            cma = sa[-1][4]+ra\n",
    "            cmi = sa[-1][4]-ra\n",
    "        \n",
    "            dma = sa[-1][5]+ra\n",
    "            dmi = sa[-1][5]-ra\n",
    "            \n",
    "            fma = sa[-1][6]+ra\n",
    "            fmi = sa[-1][6]-ra\n",
    "            \n",
    "        else:\n",
    "            ama = s[2]+ra\n",
    "            ami = s[2]-ra\n",
    "        \n",
    "            bma = s[3]+ra\n",
    "            bmi = s[3]-ra\n",
    "        \n",
    "            cma = s[4]+ra\n",
    "            cmi = s[4]-ra\n",
    "        \n",
    "            dma = s[5]+ra\n",
    "            dmi = s[5]-ra\n",
    "            \n",
    "            fma = s[6]+ra\n",
    "            fmi = s[6]-ra\n",
    "            \n",
    "        \n",
    "        if num >= 15:    #insurance of efficiency\n",
    "            num = 15\n",
    "            \n",
    "        sa.append(s)\n",
    "        msa.append(ms)\n",
    "\n",
    "        print('iteration step: %s'%(i+1))\n",
    "        print('the max strength is:',ms)\n",
    "        print(s+ss)\n",
    "        print(num)\n",
    "        print('')\n",
    "        print('')\n",
    "    \n",
    "    sa = array(sa)\n",
    "    msa = array(msa)\n",
    "\n",
    "    nm = where(msa ==min(msa))[0][0]      # find the where the minimum solution is\n",
    "\n",
    "    xs = sa[nm]\n",
    "    print('the iretation step reached mininum:',nm+1)\n",
    "    print('the max strength in the solution is:',min(msa))\n",
    "    return xs"
   ]
  },
  {
   "cell_type": "code",
   "execution_count": 10,
   "metadata": {},
   "outputs": [],
   "source": [
    "mm = 2.66   # max variation of sextupole strength\n",
    "ni = 20    # number of iterations to do\n",
    "num  = 8   # number of data to be generated"
   ]
  },
  {
   "cell_type": "code",
   "execution_count": 11,
   "metadata": {},
   "outputs": [],
   "source": [
    "t0=time.time()"
   ]
  },
  {
   "cell_type": "code",
   "execution_count": 12,
   "metadata": {
    "scrolled": false
   },
   "outputs": [
    {
     "name": "stdout",
     "output_type": "stream",
     "text": [
      "iteration step: 1\n",
      "the max strength is: 6.338109824876664\n",
      "[-6.33810982  1.08806475 -6.26689     0.9304      1.20926    -4.35482\n",
      "  0.88485067]\n",
      "8\n",
      "\n",
      "\n",
      "iteration step: 2\n",
      "the max strength is: 5.35482\n",
      "[-5.35054075  1.66277149 -5.26689    -0.0696      1.06640286 -5.35482\n",
      "  0.45627924]\n",
      "8\n",
      "\n",
      "\n",
      "iteration step: 3\n",
      "the max strength is: 5.138318571428572\n",
      "[-4.96489396  1.66365699 -5.13831857 -0.9696      0.93783143 -4.96910571\n",
      "  0.58485067]\n",
      "8\n",
      "\n",
      "\n",
      "iteration step: 4\n",
      "the max strength is: 4.845446239812446\n",
      "[-4.84544624  0.9769217  -4.79546143 -1.7696      1.05211714 -4.62624857\n",
      "  1.15627924]\n",
      "8\n",
      "\n",
      "\n",
      "iteration step: 5\n",
      "the max strength is: 4.546292729032525\n",
      "[-4.54629273  0.97771665 -4.49546143 -2.4696      0.95211714 -4.52624857\n",
      "  1.25627924]\n",
      "8\n",
      "\n",
      "\n",
      "iteration step: 6\n",
      "the max strength is: 4.409747142857143\n",
      "[-4.29447923  1.66562762 -4.40974714 -3.0696      0.86640286 -4.26910571\n",
      "  0.65627924]\n",
      "8\n",
      "\n",
      "\n",
      "iteration step: 7\n",
      "the max strength is: 4.1976771428571436\n",
      "[-4.08250826  1.80931037 -4.19546143 -3.5696      0.93783143 -4.19767714\n",
      "  0.44199353]\n",
      "8\n",
      "\n",
      "\n",
      "iteration step: 8\n",
      "the max strength is: 4.026248571428573\n",
      "[-4.02493922  1.80966454 -4.02403286 -3.9696      0.88068857 -4.02624857\n",
      "  0.49913638]\n",
      "8\n",
      "\n",
      "\n",
      "iteration step: 9\n",
      "the max strength is: 4.06413959590123\n",
      "[-4.0641396   1.20810233 -3.98117571 -4.01245714  1.18068857 -3.98339143\n",
      "  0.79913638]\n",
      "9\n",
      "\n",
      "\n",
      "iteration step: 10\n",
      "the max strength is: 4.024032857142857\n",
      "[-4.02379061  1.70947997 -4.02403286 -4.0196      0.83068857 -3.97624857\n",
      "  0.64913638]\n",
      "9\n",
      "\n",
      "\n",
      "iteration step: 11\n",
      "the max strength is: 4.023053741266294\n",
      "[-4.02305374  1.55910151 -3.99903286 -4.0196      0.90568857 -4.00124857\n",
      "  0.72413638]\n",
      "9\n",
      "\n",
      "\n",
      "iteration step: 12\n",
      "the max strength is: 4.02221761945512\n",
      "[-4.02221762  1.40870976 -3.99903286 -4.0196      0.98068857 -4.00124857\n",
      "  0.79913638]\n",
      "9\n",
      "\n",
      "\n",
      "iteration step: 13\n",
      "the max strength is: 4.021381497643945\n",
      "[-4.0213815   1.25831802 -3.99903286 -4.0196      1.05568857 -4.00124857\n",
      "  0.87413638]\n",
      "9\n",
      "\n",
      "\n",
      "iteration step: 14\n",
      "the max strength is: 4.02054537583277\n",
      "[-4.02054538  1.10792628 -3.99903286 -4.0196      1.13068857 -4.00124857\n",
      "  0.94913638]\n",
      "9\n",
      "\n",
      "\n",
      "iteration step: 15\n",
      "the max strength is: 4.0197092540215955\n",
      "[-4.01970925  0.95753453 -3.99903286 -4.0196      1.20568857 -4.00124857\n",
      "  1.02413638]\n",
      "9\n",
      "\n",
      "\n",
      "iteration step: 16\n",
      "the max strength is: 4.0196\n",
      "[-4.01947547  0.9826469  -3.99903286 -4.0196      1.10568857 -4.00124857\n",
      "  1.09913638]\n",
      "9\n",
      "\n",
      "\n",
      "iteration step: 17\n",
      "the max strength is: 4.0196\n",
      "[-4.01943434  1.03281784 -3.99903286 -4.0196      1.00568857 -4.00124857\n",
      "  1.14913638]\n",
      "10\n",
      "\n",
      "\n",
      "iteration step: 18\n",
      "the max strength is: 4.0123596825396834\n",
      "[-4.00956015  1.18316799 -4.01014397 -4.00848889  1.00568857 -4.01235968\n",
      "  0.99913638]\n",
      "10\n",
      "\n",
      "\n",
      "iteration step: 19\n",
      "the max strength is: 4.019970949072079\n",
      "[-4.01997095  1.07176794 -3.99903286 -4.0196      1.06124413 -4.00124857\n",
      "  1.05469194]\n",
      "11\n",
      "\n",
      "\n",
      "iteration step: 20\n",
      "the max strength is: 4.0123596825396834\n",
      "[-4.01067498  1.38369032 -4.01014397 -4.00848889  0.90568857 -4.01235968\n",
      "  0.89913638]\n",
      "11\n",
      "\n",
      "\n",
      "the iretation step reached mininum: 18\n",
      "the max strength in the solution is: 4.0123596825396834\n"
     ]
    }
   ],
   "source": [
    "solution = opt(x0,y0,mm,ni,num)"
   ]
  },
  {
   "cell_type": "code",
   "execution_count": 13,
   "metadata": {
    "scrolled": true
   },
   "outputs": [
    {
     "name": "stdout",
     "output_type": "stream",
     "text": [
      "11.801429986953735\n"
     ]
    }
   ],
   "source": [
    "t1=time.time()\n",
    "print(t1-t0)"
   ]
  },
  {
   "cell_type": "code",
   "execution_count": 14,
   "metadata": {},
   "outputs": [
    {
     "data": {
      "text/plain": [
       "array([-3.57664   ,  0.8176    , -3.60689   , -1.7296    ,  0.82926   ,\n",
       "       -1.69482   ,  0.50485067])"
      ]
     },
     "execution_count": 14,
     "metadata": {},
     "output_type": "execute_result"
    }
   ],
   "source": [
    "ss #original sextupoles"
   ]
  },
  {
   "cell_type": "code",
   "execution_count": 15,
   "metadata": {},
   "outputs": [
    {
     "data": {
      "text/plain": [
       "array([-0.43292015,  0.36556799, -0.40325397, -2.27888889,  0.17642857,\n",
       "       -2.31753968,  0.49428571])"
      ]
     },
     "execution_count": 15,
     "metadata": {},
     "output_type": "execute_result"
    }
   ],
   "source": [
    "solution  #variation of the sextupoles strength"
   ]
  },
  {
   "cell_type": "code",
   "execution_count": 16,
   "metadata": {},
   "outputs": [
    {
     "data": {
      "text/plain": [
       "array([-4.00956015,  1.18316799, -4.01014397, -4.00848889,  1.00568857,\n",
       "       -4.01235968,  0.99913638])"
      ]
     },
     "execution_count": 16,
     "metadata": {},
     "output_type": "execute_result"
    }
   ],
   "source": [
    "solution+ss #solution array "
   ]
  },
  {
   "cell_type": "code",
   "execution_count": 17,
   "metadata": {},
   "outputs": [],
   "source": [
    "solution = array([-0.41964882,  0.58336436, -0.34550048, -2.34350763,  0.59863976,\n",
    "       -2.32757282, -0.1453647 ])"
   ]
  },
  {
   "cell_type": "code",
   "execution_count": 18,
   "metadata": {},
   "outputs": [
    {
     "data": {
      "text/plain": [
       "array([-3.99628882,  1.40096436, -3.95239048, -4.07310763,  1.42789976,\n",
       "       -4.02239282,  0.35948597])"
      ]
     },
     "execution_count": 18,
     "metadata": {},
     "output_type": "execute_result"
    }
   ],
   "source": [
    "solution+ss"
   ]
  },
  {
   "cell_type": "markdown",
   "metadata": {},
   "source": [
    "# Orginal chromaticity  $\\xi_x = 1.593508$   "
   ]
  },
  {
   "cell_type": "code",
   "execution_count": 19,
   "metadata": {},
   "outputs": [
    {
     "data": {
      "text/plain": [
       "1.5935080591119997"
      ]
     },
     "execution_count": 19,
     "metadata": {},
     "output_type": "execute_result"
    }
   ],
   "source": [
    "cx(solution) # testing the solution"
   ]
  },
  {
   "cell_type": "markdown",
   "metadata": {},
   "source": [
    "# Orginal chromaticity $ \\xi_y = 1.622865$"
   ]
  },
  {
   "cell_type": "code",
   "execution_count": 20,
   "metadata": {},
   "outputs": [
    {
     "data": {
      "text/plain": [
       "1.6228649909489992"
      ]
     },
     "execution_count": 20,
     "metadata": {},
     "output_type": "execute_result"
    }
   ],
   "source": [
    "cy(solution)"
   ]
  },
  {
   "cell_type": "markdown",
   "metadata": {},
   "source": [
    "# If the chrom matches above, use this solution as a initial guess to runing an optimization in Tao."
   ]
  }
 ],
 "metadata": {
  "kernelspec": {
   "display_name": "Python 3",
   "language": "python",
   "name": "python3"
  },
  "language_info": {
   "codemirror_mode": {
    "name": "ipython",
    "version": 3
   },
   "file_extension": ".py",
   "mimetype": "text/x-python",
   "name": "python",
   "nbconvert_exporter": "python",
   "pygments_lexer": "ipython3",
   "version": "3.8.5"
  }
 },
 "nbformat": 4,
 "nbformat_minor": 4
}
